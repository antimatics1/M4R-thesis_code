{
 "cells": [
  {
   "cell_type": "code",
   "execution_count": null,
   "metadata": {},
   "outputs": [],
   "source": [
    "import numpy as np\n",
    "import matplotlib.pyplot as plt\n",
    "\n",
    "def phi(z):\n",
    "    return 1.0 / np.sqrt(2*np.pi) * np.exp(-z**2/2)\n",
    "\n",
    "def soft_threshold(x, lam):\n",
    "    return np.sign(x) * max(abs(x) - lam, 0)\n",
    "\n",
    "def risk_soft_threshold(mu, lam, zmin=-8, zmax=8, n=2001):\n",
    "    zvals = np.linspace(zmin, zmax, n)\n",
    "    fvals = []\n",
    "    for z in zvals:\n",
    "        x = mu + z\n",
    "        hat = soft_threshold(x, lam)\n",
    "        fvals.append(((hat - mu)**2) * phi(z))\n",
    "    return np.trapz(fvals, zvals)\n",
    "\n",
    "mus = np.linspace(0, 5, 300)\n",
    "lambda_values = [0.5, 1.0, 2.0]\n",
    "colors = ['blue','red','green']\n",
    "\n",
    "plt.figure(figsize=(7,5))\n",
    "\n",
    "for lam, c in zip(lambda_values, colors):\n",
    "    rvals = [risk_soft_threshold(m, lam) for m in mus]\n",
    "    plt.plot(mus, rvals, color=c, label=r'$\\lambda = %.1f$' % lam)\n",
    "    plt.axhline(1 + lam**2, color=c, ls='--', alpha=0.5)\n",
    "\n",
    "plt.xlabel(r'$\\mu$')\n",
    "plt.ylabel('Risk')\n",
    "plt.title('Soft-Threshold Risk vs. $\\\\mu$ for Multiple Thresholds')\n",
    "plt.ylim(0, None)\n",
    "plt.legend()\n",
    "plt.grid(True)\n",
    "plt.show()"
   ]
  }
 ],
 "metadata": {
  "language_info": {
   "name": "python"
  }
 },
 "nbformat": 4,
 "nbformat_minor": 2
}
